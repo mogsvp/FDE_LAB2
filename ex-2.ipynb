{
 "cells": [
  {
   "cell_type": "code",
   "execution_count": 5,
   "id": "6e2f3c79-93b1-446f-9513-a342031e7fca",
   "metadata": {},
   "outputs": [],
   "source": [
    "# -------------------------------\n",
    "# Stage 1: Business Analyst Task\n",
    "# -------------------------------\n",
    "# Business Question: What are the top 5 products by revenue in the last quarter, and how does customer sentiment vary for these products?\n",
    "# Required data points: product_id, sale_price, quantity, sale_date, customer_id, sentiment_score\n",
    "\n",
    "# -------------------------------\n",
    "# Stage 2: Data Engineer Task\n",
    "# -------------------------------\n",
    "\n",
    "import pandas as pd\n",
    "import matplotlib.pyplot as plt\n",
    "import os"
   ]
  },
  {
   "cell_type": "code",
   "execution_count": 6,
   "id": "c0801d31-4051-4548-85f8-2fb801e72f0d",
   "metadata": {},
   "outputs": [],
   "source": [
    "# Ensure directory structure\n",
    "os.makedirs(\"data_warehouse\", exist_ok=True)"
   ]
  },
  {
   "cell_type": "code",
   "execution_count": 12,
   "id": "ef9d80f8-5d39-43fb-b0b5-194e49cf177e",
   "metadata": {},
   "outputs": [],
   "source": [
    "patients_df = pd.read_csv(\"./raw_data/patients_data_with_doctor.csv\")\n",
    "doctors_df = pd.read_csv(\"./raw_data/doctors_info.csv\")\n",
    "\n",
    "feedback_df = pd.read_json(\"./raw_data/patient_feedback.json\")"
   ]
  },
  {
   "cell_type": "code",
   "execution_count": 13,
   "id": "f0e28ca3-b722-431b-bda4-73c1356f41da",
   "metadata": {},
   "outputs": [],
   "source": [
    "patients_df.columns = patients_df.columns.str.strip().str.lower()\n",
    "doctors_df.columns = doctors_df.columns.str.strip().str.lower()\n",
    "feedback_df.columns = feedback_df.columns.str.strip().str.lower()"
   ]
  },
  {
   "cell_type": "code",
   "execution_count": 14,
   "id": "a90a67aa-f520-41d8-9b4e-d10c1814e264",
   "metadata": {},
   "outputs": [],
   "source": [
    "# Convert review_date to datetime\n",
    "feedback_df['review_date'] = pd.to_datetime(feedback_df['review_date'], errors='coerce')\n",
    "\n",
    "# Drop duplicates if any\n",
    "patients_df.drop_duplicates(inplace=True)\n",
    "doctors_df.drop_duplicates(inplace=True)\n",
    "feedback_df.drop_duplicates(inplace=True)"
   ]
  },
  {
   "cell_type": "code",
   "execution_count": 15,
   "id": "25aeb04e-6fa2-4f1a-8fe3-b8b3654211c0",
   "metadata": {},
   "outputs": [],
   "source": [
    "patients_df.dropna(subset=['doctor_id'], inplace=True)\n",
    "feedback_df.dropna(subset=['patient_id', 'patient_feedback_score'], inplace=True)\n"
   ]
  },
  {
   "cell_type": "code",
   "execution_count": 16,
   "id": "2d3b0adf-ca79-445b-8ad6-d8d08ab6c568",
   "metadata": {},
   "outputs": [],
   "source": [
    "patient_doctor_df = pd.merge(\n",
    "    patients_df,\n",
    "    doctors_df,\n",
    "    on='doctor_id',\n",
    "    how='left'\n",
    ")\n",
    "\n",
    "# Merge with feedback\n",
    "final_df = pd.merge(\n",
    "    patient_doctor_df,\n",
    "    feedback_df,\n",
    "    on='patient_id',\n",
    "    how='left'\n",
    ")"
   ]
  },
  {
   "cell_type": "code",
   "execution_count": 17,
   "id": "66da9377-c7a6-4c37-8067-464c38f1cae3",
   "metadata": {},
   "outputs": [
    {
     "name": "stdout",
     "output_type": "stream",
     "text": [
      "ETL complete. Cleaned data saved to 'cleaned_healthcare_data.csv'\n"
     ]
    }
   ],
   "source": [
    "# Save cleaned dataset\n",
    "final_df.to_csv(\"cleaned_healthcare_data.csv\", index=False)\n",
    "\n",
    "print(\"ETL complete. Cleaned data saved to 'cleaned_healthcare_data.csv'\")\n"
   ]
  },
  {
   "cell_type": "code",
   "execution_count": null,
   "id": "5ad70ae2-c5d1-4d3b-9527-f5b5dd2f8616",
   "metadata": {},
   "outputs": [],
   "source": []
  }
 ],
 "metadata": {
  "kernelspec": {
   "display_name": "Python 3 (ipykernel)",
   "language": "python",
   "name": "python3"
  },
  "language_info": {
   "codemirror_mode": {
    "name": "ipython",
    "version": 3
   },
   "file_extension": ".py",
   "mimetype": "text/x-python",
   "name": "python",
   "nbconvert_exporter": "python",
   "pygments_lexer": "ipython3",
   "version": "3.11.7"
  }
 },
 "nbformat": 4,
 "nbformat_minor": 5
}

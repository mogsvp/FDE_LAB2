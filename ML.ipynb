{
 "cells": [
  {
   "cell_type": "code",
   "execution_count": 23,
   "id": "29d7dcb6-3ed5-40e5-8e6d-08b44ce65762",
   "metadata": {},
   "outputs": [],
   "source": [
    "import pandas as pd\n",
    "from sklearn.preprocessing import StandardScaler\n",
    "from sklearn.cluster import KMeans\n",
    "import os\n",
    "os.environ[\"OMP_NUM_THREADS\"] = \"1\"\n",
    "from sklearn.cluster import KMeans\n",
    "kmeans = KMeans(n_clusters=2, random_state=42, n_init=10)"
   ]
  },
  {
   "cell_type": "code",
   "execution_count": 24,
   "id": "c467f998-4233-4e87-84c9-2e608eedf729",
   "metadata": {},
   "outputs": [],
   "source": [
    "# Load processed sales data from ETL step\n",
    "df = pd.read_csv(\"data_warehouse/processed_sales_data.csv\")"
   ]
  },
  {
   "cell_type": "code",
   "execution_count": 25,
   "id": "302d5892-14bf-497d-8d89-6697db1bba80",
   "metadata": {},
   "outputs": [],
   "source": [
    "# ----------------------------\n",
    "# Step 1: Aggregate customer features\n",
    "# ----------------------------\n",
    "customer_df = (\n",
    "    df.groupby('customer_id')\n",
    "    .agg(\n",
    "        total_purchase=('total_revenue', 'sum'),\n",
    "        purchase_frequency=('product_id', 'count'),\n",
    "        avg_transaction_value=('total_revenue', 'mean')\n",
    "    )\n",
    "    .reset_index()\n",
    ")"
   ]
  },
  {
   "cell_type": "code",
   "execution_count": 26,
   "id": "6fbfc7ff-30a3-4d93-b843-c20b04541220",
   "metadata": {},
   "outputs": [],
   "source": [
    "# ----------------------------\n",
    "# Step 2: Preprocessing\n",
    "# ----------------------------\n",
    "features = customer_df[['total_purchase', 'purchase_frequency', 'avg_transaction_value']]\n",
    "scaler = StandardScaler()\n",
    "X_scaled = scaler.fit_transform(features)"
   ]
  },
  {
   "cell_type": "code",
   "execution_count": 27,
   "id": "49c2d666-c9d8-4d43-9db2-efafd7c4ad65",
   "metadata": {},
   "outputs": [],
   "source": [
    "# ----------------------------\n",
    "# Step 3: K-Means clustering\n",
    "# ----------------------------\n",
    "kmeans = KMeans(n_clusters=2, random_state=42)\n",
    "customer_df['cluster'] = kmeans.fit_predict(X_scaled)\n",
    "\n",
    "# Identify which cluster is VIP (higher total purchase)\n",
    "vip_cluster = customer_df.groupby('cluster')['total_purchase'].mean().idxmax()\n",
    "customer_df['VIP_status'] = customer_df['cluster'].apply(\n",
    "    lambda x: 'VIP' if x == vip_cluster else 'Non-VIP'\n",
    ")"
   ]
  },
  {
   "cell_type": "code",
   "execution_count": 28,
   "id": "4900968e-9e33-4321-8901-154808c1879f",
   "metadata": {},
   "outputs": [],
   "source": [
    "# ----------------------------\n",
    "# Step 4: Reverse ETL\n",
    "# ----------------------------\n",
    "df = df.merge(customer_df[['customer_id', 'VIP_status']], on='customer_id', how='left')"
   ]
  },
  {
   "cell_type": "code",
   "execution_count": 29,
   "id": "d36ce916-2b4a-40ad-8b86-902c40370925",
   "metadata": {},
   "outputs": [
    {
     "name": "stdout",
     "output_type": "stream",
     "text": [
      "Updated dataset with VIP status saved to data_warehouse/processed_sales_with_vip.csv\n",
      "  customer_id VIP_status\n",
      "0       C_001    Non-VIP\n",
      "1       C_002    Non-VIP\n",
      "2       C_003    Non-VIP\n",
      "3       C_004    Non-VIP\n",
      "4       C_005    Non-VIP\n"
     ]
    }
   ],
   "source": [
    "# Save enriched dataset\n",
    "df.to_csv(\"data_warehouse/processed_sales_with_vip.csv\", index=False)\n",
    "print(\"Updated dataset with VIP status saved to data_warehouse/processed_sales_with_vip.csv\")\n",
    "\n",
    "# Optional: quick check\n",
    "print(df[['customer_id', 'VIP_status']].drop_duplicates().head())"
   ]
  },
  {
   "cell_type": "code",
   "execution_count": null,
   "id": "4dd63ee4-e530-48af-ac02-552b5902683c",
   "metadata": {},
   "outputs": [],
   "source": []
  },
  {
   "cell_type": "code",
   "execution_count": null,
   "id": "3e972917-5c15-40ca-a229-4611fd944c45",
   "metadata": {},
   "outputs": [],
   "source": []
  }
 ],
 "metadata": {
  "kernelspec": {
   "display_name": "Python 3 (ipykernel)",
   "language": "python",
   "name": "python3"
  },
  "language_info": {
   "codemirror_mode": {
    "name": "ipython",
    "version": 3
   },
   "file_extension": ".py",
   "mimetype": "text/x-python",
   "name": "python",
   "nbconvert_exporter": "python",
   "pygments_lexer": "ipython3",
   "version": "3.11.7"
  }
 },
 "nbformat": 4,
 "nbformat_minor": 5
}

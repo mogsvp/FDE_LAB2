{
 "cells": [
  {
   "cell_type": "code",
   "execution_count": 1,
   "id": "e5b58edc-bbd1-48fe-a8a2-93efe4b037e5",
   "metadata": {},
   "outputs": [],
   "source": [
    "# -------------------------------\n",
    "# Stage 1: Business Analyst Task\n",
    "# -------------------------------\n",
    "# Business Question: What are the top 5 products by revenue in the last quarter, and how does customer sentiment vary for these products?\n",
    "# Required data points: product_id, sale_price, quantity, sale_date, customer_id, sentiment_score\n",
    "\n",
    "# -------------------------------\n",
    "# Stage 2: Data Engineer Task\n",
    "# -------------------------------\n",
    "\n",
    "import pandas as pd\n",
    "import matplotlib.pyplot as plt\n",
    "import os"
   ]
  },
  {
   "cell_type": "code",
   "execution_count": 2,
   "id": "2d910b0b-e913-46e3-ba46-173f23af209b",
   "metadata": {},
   "outputs": [],
   "source": [
    "# Ensure directory structure\n",
    "os.makedirs(\"data_warehouse\", exist_ok=True)"
   ]
  },
  {
   "cell_type": "code",
   "execution_count": 3,
   "id": "cebd8337-a2c3-445e-8209-c3b248dcaf36",
   "metadata": {},
   "outputs": [],
   "source": [
    "# 1. Ingestion\n",
    "sales_df = pd.read_csv(\"./raw_data/sale_price.csv\")\n",
    "feedback_df = pd.read_json(\"./raw_data/customer_feedback.json\")\n"
   ]
  },
  {
   "cell_type": "code",
   "execution_count": 4,
   "id": "a9ee5801-48ca-4b59-8dbb-c778f39b0091",
   "metadata": {},
   "outputs": [],
   "source": [
    "# 2. Cleansing\n",
    "\n",
    "# Remove '$' and convert sale_price to float\n",
    "sales_df['sale_price'] = sales_df['sale_price'].replace('[\\$,]', '', regex=True).astype(float)\n"
   ]
  },
  {
   "cell_type": "code",
   "execution_count": 5,
   "id": "3d1e5654-b80f-4ebf-a244-c2681999638f",
   "metadata": {},
   "outputs": [],
   "source": [
    "# Fill missing quantity with 1 (default)\n",
    "sales_df['quantity'] = sales_df['quantity'].fillna(1).astype(int)"
   ]
  },
  {
   "cell_type": "code",
   "execution_count": 6,
   "id": "9100180e-a991-46d8-9947-c7667d4d9bc9",
   "metadata": {},
   "outputs": [],
   "source": [
    "# Standardize date format\n",
    "sales_df['sale_date'] = pd.to_datetime(sales_df['sale_date'], format='mixed', errors='coerce')\n",
    "feedback_df['review_date'] = pd.to_datetime(feedback_df['review_date'], format='mixed', errors='coerce')"
   ]
  },
  {
   "cell_type": "code",
   "execution_count": 7,
   "id": "8048cca6-1be7-47c6-886e-66d2f5c9c278",
   "metadata": {},
   "outputs": [],
   "source": [
    "# 3. Transformation\n",
    "\n",
    "# Compute total revenue\n",
    "sales_df['total_revenue'] = sales_df['sale_price'] * sales_df['quantity']\n",
    "\n",
    "# Keep the latest feedback entry per (product_id, customer_id)\n",
    "feedback_df = feedback_df.sort_values('review_date').drop_duplicates(\n",
    "    subset=['product_id', 'customer_id'], keep='last'\n",
    ")\n",
    "\n",
    "# Merge sales and feedback\n",
    "merged_df = pd.merge(sales_df, feedback_df, on=['product_id', 'customer_id'], how='left')\n",
    "\n",
    "# Remove rows where sale_price is 0 or review_date is missing\n",
    "merged_df = merged_df[(merged_df['sale_price'] > 0) & (merged_df['review_date'].notna())]"
   ]
  },
  {
   "cell_type": "code",
   "execution_count": 8,
   "id": "a0cac714-15a7-472f-a63e-e036749e13e0",
   "metadata": {},
   "outputs": [
    {
     "name": "stdout",
     "output_type": "stream",
     "text": [
      "Processed data saved to data_warehouse/processed_sales_data.csv\n"
     ]
    }
   ],
   "source": [
    "# 4. Loading to warehouse\n",
    "processed_path = \"data_warehouse/processed_sales_data.csv\"\n",
    "merged_df.to_csv(processed_path, index=False)\n",
    "\n",
    "print(f\"Processed data saved to {processed_path}\")"
   ]
  },
  {
   "cell_type": "code",
   "execution_count": null,
   "id": "ef3a8569-262c-489d-b83b-5033802faa73",
   "metadata": {},
   "outputs": [],
   "source": []
  }
 ],
 "metadata": {
  "kernelspec": {
   "display_name": "Python 3 (ipykernel)",
   "language": "python",
   "name": "python3"
  },
  "language_info": {
   "codemirror_mode": {
    "name": "ipython",
    "version": 3
   },
   "file_extension": ".py",
   "mimetype": "text/x-python",
   "name": "python",
   "nbconvert_exporter": "python",
   "pygments_lexer": "ipython3",
   "version": "3.11.7"
  }
 },
 "nbformat": 4,
 "nbformat_minor": 5
}
